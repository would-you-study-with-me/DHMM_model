{
 "cells": [
  {
   "cell_type": "code",
   "execution_count": 8,
   "outputs": [
    {
     "data": {
      "text/plain": "                               restaurant_id restaurant_name  restaurant_rate  \\\n0       000015af-140a-4366-9619-d2a94e36d501     bhc치킨 반월삼성점                1   \n1       00001ab4-e1b7-45a8-bfeb-694cf1f6893b              밀밭                1   \n2       00002019-36fc-4b27-87be-00548ec6c264           홍춘이포차                4   \n3       0000336e-b29c-4a17-a57a-fd3115be4d90           커피알베로                1   \n4       0000442c-1ecf-4f6f-8a8d-511f2f49cd34         후식 선릉역점                1   \n...                                      ...             ...              ...   \n798755  ffffbab0-927f-47dc-b8f5-2669885bf138            황제다방                0   \n798756  ffffd075-7392-4c4e-83a4-28e4622c6ed9              뮤즈                1   \n798757  ffffd38e-c858-403e-8c6f-f9579e7b65e6            찜닭마을                5   \n798758  ffffd732-6c4f-4d58-91e0-495bb27f2e13          배터지는고기                5   \n798759  ffffe3de-7561-4c34-a382-7b8110cdf549            제일식당                0   \n\n        restaurant_category  restaurant_count_seats  restaurant_x  \\\n0                       NaN                      49    127.070477   \n1                       NaN                      28    127.149160   \n2                       NaN                      39    126.797864   \n3                       NaN                      20    126.664921   \n4                       NaN                      13    127.055136   \n...                     ...                     ...           ...   \n798755                  NaN                      36    128.558930   \n798756                  NaN                      29    127.722961   \n798757                  NaN                      88    127.441049   \n798758                  NaN                      70    128.317226   \n798759                  NaN                      30    128.745421   \n\n        restaurant_y                         restaurant_address  \\\n0          37.228156          경기도 화성시 삼성1로6길 19 (반월동, 360-20번지)   \n1          37.271302           경기도 용인시 기흥구 동백중앙로 199, 106호 (중동)   \n2          35.176804            광주광역시 광산구 용아로379번길 64, 1층 (하남동)   \n3          37.441782                   인천광역시 미추홀구 소성로 173 (학익동)   \n4          37.507409  서울특별시 강남구 테헤란로 지하 340, 선릉역 지하1층 맞이방 (삼성동)   \n...              ...                                        ...   \n798755     35.865237               대구광역시 서구 평리로 355, 지하1층 (평리동)   \n798756     35.516753                      경상남도 함양군 함양읍 함양로 1096   \n798757     37.280821               경기도 이천시 서희로60번길 15, 2층 (창전동)   \n798758     34.975775                       경상남도 고성군 고성읍 남포로 141   \n798759     35.249961                       경상남도 김해시 진례면 진례로 252   \n\n        restaurant_description  restaurant_contact restaurant_created_at  \\\n0                          NaN                 NaN   2022-12-03 10:35:35   \n1                          NaN                 NaN   2022-12-03 10:35:32   \n2                          NaN                 NaN   2022-12-03 10:34:05   \n3                          NaN                 NaN   2022-12-03 10:36:06   \n4                          NaN                 NaN   2022-12-03 10:35:49   \n...                        ...                 ...                   ...   \n798755                     NaN                 NaN   2022-12-03 10:35:45   \n798756                     NaN                 NaN   2022-12-03 10:35:53   \n798757                     NaN                 NaN   2022-12-03 10:35:19   \n798758                     NaN                 NaN   2022-12-03 10:33:44   \n798759                     NaN                 NaN   2022-12-03 10:35:10   \n\n       restaurant_updated_at  \\\n0        2022-12-03 10:35:35   \n1        2022-12-03 10:35:32   \n2        2022-12-06 23:33:51   \n3        2022-12-03 10:36:06   \n4        2022-12-03 10:35:49   \n...                      ...   \n798755   2022-12-03 10:35:45   \n798756   2022-12-03 10:35:53   \n798757   2022-12-03 10:35:19   \n798758   2022-12-03 10:33:44   \n798759   2022-12-03 10:35:10   \n\n                                         restaurant_image  \\\n0                                                     NaN   \n1                                                     NaN   \n2       {\"lastBuildDate\": \"Tue, 06 Dec 2022 23:33:53 +...   \n3                                                     NaN   \n4                                                     NaN   \n...                                                   ...   \n798755                                                NaN   \n798756                                                NaN   \n798757                                                NaN   \n798758                                                NaN   \n798759                                                NaN   \n\n                                          restaurant_menu  \n0                                                     NaN  \n1                                                     NaN  \n2       {\"lastBuildDate\": \"Tue, 06 Dec 2022 23:32:29 +...  \n3                                                     NaN  \n4                                                     NaN  \n...                                                   ...  \n798755                                                NaN  \n798756                                                NaN  \n798757                                                NaN  \n798758                                                NaN  \n798759                                                NaN  \n\n[798760 rows x 14 columns]",
      "text/html": "<div>\n<style scoped>\n    .dataframe tbody tr th:only-of-type {\n        vertical-align: middle;\n    }\n\n    .dataframe tbody tr th {\n        vertical-align: top;\n    }\n\n    .dataframe thead th {\n        text-align: right;\n    }\n</style>\n<table border=\"1\" class=\"dataframe\">\n  <thead>\n    <tr style=\"text-align: right;\">\n      <th></th>\n      <th>restaurant_id</th>\n      <th>restaurant_name</th>\n      <th>restaurant_rate</th>\n      <th>restaurant_category</th>\n      <th>restaurant_count_seats</th>\n      <th>restaurant_x</th>\n      <th>restaurant_y</th>\n      <th>restaurant_address</th>\n      <th>restaurant_description</th>\n      <th>restaurant_contact</th>\n      <th>restaurant_created_at</th>\n      <th>restaurant_updated_at</th>\n      <th>restaurant_image</th>\n      <th>restaurant_menu</th>\n    </tr>\n  </thead>\n  <tbody>\n    <tr>\n      <th>0</th>\n      <td>000015af-140a-4366-9619-d2a94e36d501</td>\n      <td>bhc치킨 반월삼성점</td>\n      <td>1</td>\n      <td>NaN</td>\n      <td>49</td>\n      <td>127.070477</td>\n      <td>37.228156</td>\n      <td>경기도 화성시 삼성1로6길 19 (반월동, 360-20번지)</td>\n      <td>NaN</td>\n      <td>NaN</td>\n      <td>2022-12-03 10:35:35</td>\n      <td>2022-12-03 10:35:35</td>\n      <td>NaN</td>\n      <td>NaN</td>\n    </tr>\n    <tr>\n      <th>1</th>\n      <td>00001ab4-e1b7-45a8-bfeb-694cf1f6893b</td>\n      <td>밀밭</td>\n      <td>1</td>\n      <td>NaN</td>\n      <td>28</td>\n      <td>127.149160</td>\n      <td>37.271302</td>\n      <td>경기도 용인시 기흥구 동백중앙로 199, 106호 (중동)</td>\n      <td>NaN</td>\n      <td>NaN</td>\n      <td>2022-12-03 10:35:32</td>\n      <td>2022-12-03 10:35:32</td>\n      <td>NaN</td>\n      <td>NaN</td>\n    </tr>\n    <tr>\n      <th>2</th>\n      <td>00002019-36fc-4b27-87be-00548ec6c264</td>\n      <td>홍춘이포차</td>\n      <td>4</td>\n      <td>NaN</td>\n      <td>39</td>\n      <td>126.797864</td>\n      <td>35.176804</td>\n      <td>광주광역시 광산구 용아로379번길 64, 1층 (하남동)</td>\n      <td>NaN</td>\n      <td>NaN</td>\n      <td>2022-12-03 10:34:05</td>\n      <td>2022-12-06 23:33:51</td>\n      <td>{\"lastBuildDate\": \"Tue, 06 Dec 2022 23:33:53 +...</td>\n      <td>{\"lastBuildDate\": \"Tue, 06 Dec 2022 23:32:29 +...</td>\n    </tr>\n    <tr>\n      <th>3</th>\n      <td>0000336e-b29c-4a17-a57a-fd3115be4d90</td>\n      <td>커피알베로</td>\n      <td>1</td>\n      <td>NaN</td>\n      <td>20</td>\n      <td>126.664921</td>\n      <td>37.441782</td>\n      <td>인천광역시 미추홀구 소성로 173 (학익동)</td>\n      <td>NaN</td>\n      <td>NaN</td>\n      <td>2022-12-03 10:36:06</td>\n      <td>2022-12-03 10:36:06</td>\n      <td>NaN</td>\n      <td>NaN</td>\n    </tr>\n    <tr>\n      <th>4</th>\n      <td>0000442c-1ecf-4f6f-8a8d-511f2f49cd34</td>\n      <td>후식 선릉역점</td>\n      <td>1</td>\n      <td>NaN</td>\n      <td>13</td>\n      <td>127.055136</td>\n      <td>37.507409</td>\n      <td>서울특별시 강남구 테헤란로 지하 340, 선릉역 지하1층 맞이방 (삼성동)</td>\n      <td>NaN</td>\n      <td>NaN</td>\n      <td>2022-12-03 10:35:49</td>\n      <td>2022-12-03 10:35:49</td>\n      <td>NaN</td>\n      <td>NaN</td>\n    </tr>\n    <tr>\n      <th>...</th>\n      <td>...</td>\n      <td>...</td>\n      <td>...</td>\n      <td>...</td>\n      <td>...</td>\n      <td>...</td>\n      <td>...</td>\n      <td>...</td>\n      <td>...</td>\n      <td>...</td>\n      <td>...</td>\n      <td>...</td>\n      <td>...</td>\n      <td>...</td>\n    </tr>\n    <tr>\n      <th>798755</th>\n      <td>ffffbab0-927f-47dc-b8f5-2669885bf138</td>\n      <td>황제다방</td>\n      <td>0</td>\n      <td>NaN</td>\n      <td>36</td>\n      <td>128.558930</td>\n      <td>35.865237</td>\n      <td>대구광역시 서구 평리로 355, 지하1층 (평리동)</td>\n      <td>NaN</td>\n      <td>NaN</td>\n      <td>2022-12-03 10:35:45</td>\n      <td>2022-12-03 10:35:45</td>\n      <td>NaN</td>\n      <td>NaN</td>\n    </tr>\n    <tr>\n      <th>798756</th>\n      <td>ffffd075-7392-4c4e-83a4-28e4622c6ed9</td>\n      <td>뮤즈</td>\n      <td>1</td>\n      <td>NaN</td>\n      <td>29</td>\n      <td>127.722961</td>\n      <td>35.516753</td>\n      <td>경상남도 함양군 함양읍 함양로 1096</td>\n      <td>NaN</td>\n      <td>NaN</td>\n      <td>2022-12-03 10:35:53</td>\n      <td>2022-12-03 10:35:53</td>\n      <td>NaN</td>\n      <td>NaN</td>\n    </tr>\n    <tr>\n      <th>798757</th>\n      <td>ffffd38e-c858-403e-8c6f-f9579e7b65e6</td>\n      <td>찜닭마을</td>\n      <td>5</td>\n      <td>NaN</td>\n      <td>88</td>\n      <td>127.441049</td>\n      <td>37.280821</td>\n      <td>경기도 이천시 서희로60번길 15, 2층 (창전동)</td>\n      <td>NaN</td>\n      <td>NaN</td>\n      <td>2022-12-03 10:35:19</td>\n      <td>2022-12-03 10:35:19</td>\n      <td>NaN</td>\n      <td>NaN</td>\n    </tr>\n    <tr>\n      <th>798758</th>\n      <td>ffffd732-6c4f-4d58-91e0-495bb27f2e13</td>\n      <td>배터지는고기</td>\n      <td>5</td>\n      <td>NaN</td>\n      <td>70</td>\n      <td>128.317226</td>\n      <td>34.975775</td>\n      <td>경상남도 고성군 고성읍 남포로 141</td>\n      <td>NaN</td>\n      <td>NaN</td>\n      <td>2022-12-03 10:33:44</td>\n      <td>2022-12-03 10:33:44</td>\n      <td>NaN</td>\n      <td>NaN</td>\n    </tr>\n    <tr>\n      <th>798759</th>\n      <td>ffffe3de-7561-4c34-a382-7b8110cdf549</td>\n      <td>제일식당</td>\n      <td>0</td>\n      <td>NaN</td>\n      <td>30</td>\n      <td>128.745421</td>\n      <td>35.249961</td>\n      <td>경상남도 김해시 진례면 진례로 252</td>\n      <td>NaN</td>\n      <td>NaN</td>\n      <td>2022-12-03 10:35:10</td>\n      <td>2022-12-03 10:35:10</td>\n      <td>NaN</td>\n      <td>NaN</td>\n    </tr>\n  </tbody>\n</table>\n<p>798760 rows × 14 columns</p>\n</div>"
     },
     "execution_count": 8,
     "metadata": {},
     "output_type": "execute_result"
    }
   ],
   "source": [
    "import pandas as pd\n",
    "\n",
    "restaurant = pd.read_csv(\"data/restaurant_2023.csv\", header=0, index_col=None, encoding=\"utf-8\")\n",
    "\n",
    "restaurant"
   ],
   "metadata": {
    "collapsed": false
   }
  },
  {
   "cell_type": "code",
   "execution_count": 10,
   "outputs": [
    {
     "data": {
      "text/plain": "   restaurant_id  restaurant_name  restaurant_rate  restaurant_category  \\\n0       -1.39916         -0.09992        -0.386681             1.865729   \n\n   restaurant_count_seats  restaurant_x  restaurant_y  restaurant_address  \\\n0                0.745613     -0.335075     -0.004127              1.1262   \n\n   restaurant_description  restaurant_contact  restaurant_image  \\\n0                0.087402            0.919203          1.053849   \n\n   restaurant_menu  restaurant_opening_time_days  restaurant_opening_time  \\\n0         1.269373                      1.248984                 0.975958   \n\n   restaurant_break_time_days  restaurant_break_time  restaurant_created_at  \\\n0                    0.062946              -0.277268              -0.655729   \n\n   restaurant_updated_at  \n0               0.010495  ",
      "text/html": "<div>\n<style scoped>\n    .dataframe tbody tr th:only-of-type {\n        vertical-align: middle;\n    }\n\n    .dataframe tbody tr th {\n        vertical-align: top;\n    }\n\n    .dataframe thead th {\n        text-align: right;\n    }\n</style>\n<table border=\"1\" class=\"dataframe\">\n  <thead>\n    <tr style=\"text-align: right;\">\n      <th></th>\n      <th>restaurant_id</th>\n      <th>restaurant_name</th>\n      <th>restaurant_rate</th>\n      <th>restaurant_category</th>\n      <th>restaurant_count_seats</th>\n      <th>restaurant_x</th>\n      <th>restaurant_y</th>\n      <th>restaurant_address</th>\n      <th>restaurant_description</th>\n      <th>restaurant_contact</th>\n      <th>restaurant_image</th>\n      <th>restaurant_menu</th>\n      <th>restaurant_opening_time_days</th>\n      <th>restaurant_opening_time</th>\n      <th>restaurant_break_time_days</th>\n      <th>restaurant_break_time</th>\n      <th>restaurant_created_at</th>\n      <th>restaurant_updated_at</th>\n    </tr>\n  </thead>\n  <tbody>\n    <tr>\n      <th>0</th>\n      <td>-1.39916</td>\n      <td>-0.09992</td>\n      <td>-0.386681</td>\n      <td>1.865729</td>\n      <td>0.745613</td>\n      <td>-0.335075</td>\n      <td>-0.004127</td>\n      <td>1.1262</td>\n      <td>0.087402</td>\n      <td>0.919203</td>\n      <td>1.053849</td>\n      <td>1.269373</td>\n      <td>1.248984</td>\n      <td>0.975958</td>\n      <td>0.062946</td>\n      <td>-0.277268</td>\n      <td>-0.655729</td>\n      <td>0.010495</td>\n    </tr>\n  </tbody>\n</table>\n</div>"
     },
     "execution_count": 10,
     "metadata": {},
     "output_type": "execute_result"
    }
   ],
   "source": [
    "import numpy as np\n",
    "\n",
    "new_restaurant_header = [\"restaurant_id\", \"restaurant_name\", \"restaurant_rate\",\"restaurant_category\", \"restaurant_count_seats\", \"restaurant_x\", \"restaurant_y\", \"restaurant_address\", \"restaurant_description\", \"restaurant_contact\", \"restaurant_image\", \"restaurant_menu\", \"restaurant_opening_time_days\", \"restaurant_opening_time\", \"restaurant_break_time_days\", \"restaurant_break_time\", \"restaurant_created_at\", \"restaurant_updated_at\"]\n",
    "\n",
    "new_restaurant_data = pd.DataFrame(np.random.randn(1, 18), columns=new_restaurant_header)\n",
    "new_restaurant_data"
   ],
   "metadata": {
    "collapsed": false
   }
  },
  {
   "cell_type": "code",
   "execution_count": 11,
   "outputs": [
    {
     "data": {
      "text/plain": "Index(['restaurant_id', 'restaurant_name', 'restaurant_rate',\n       'restaurant_category', 'restaurant_count_seats', 'restaurant_x',\n       'restaurant_y', 'restaurant_address', 'restaurant_description',\n       'restaurant_contact', 'restaurant_created_at', 'restaurant_updated_at',\n       'restaurant_image', 'restaurant_menu'],\n      dtype='object')"
     },
     "execution_count": 11,
     "metadata": {},
     "output_type": "execute_result"
    }
   ],
   "source": [
    "restaurant.columns"
   ],
   "metadata": {
    "collapsed": false
   }
  },
  {
   "cell_type": "code",
   "execution_count": 12,
   "outputs": [],
   "source": [
    "restaurant[\"restaurant_opening_time_days\"] = None"
   ],
   "metadata": {
    "collapsed": false
   }
  },
  {
   "cell_type": "code",
   "execution_count": 13,
   "outputs": [],
   "source": [
    "restaurant[\"restaurant_opening_time\"] = None"
   ],
   "metadata": {
    "collapsed": false
   }
  },
  {
   "cell_type": "code",
   "execution_count": 14,
   "outputs": [],
   "source": [
    "restaurant[\"restaurant_break_time_days\"] = None"
   ],
   "metadata": {
    "collapsed": false
   }
  },
  {
   "cell_type": "code",
   "execution_count": 15,
   "outputs": [],
   "source": [
    "restaurant[\"restaurant_break_time\"] = None"
   ],
   "metadata": {
    "collapsed": false
   }
  },
  {
   "cell_type": "code",
   "execution_count": 16,
   "outputs": [
    {
     "data": {
      "text/plain": "                               restaurant_id restaurant_name  restaurant_rate  \\\n0       000015af-140a-4366-9619-d2a94e36d501     bhc치킨 반월삼성점                1   \n1       00001ab4-e1b7-45a8-bfeb-694cf1f6893b              밀밭                1   \n2       00002019-36fc-4b27-87be-00548ec6c264           홍춘이포차                4   \n3       0000336e-b29c-4a17-a57a-fd3115be4d90           커피알베로                1   \n4       0000442c-1ecf-4f6f-8a8d-511f2f49cd34         후식 선릉역점                1   \n...                                      ...             ...              ...   \n798755  ffffbab0-927f-47dc-b8f5-2669885bf138            황제다방                0   \n798756  ffffd075-7392-4c4e-83a4-28e4622c6ed9              뮤즈                1   \n798757  ffffd38e-c858-403e-8c6f-f9579e7b65e6            찜닭마을                5   \n798758  ffffd732-6c4f-4d58-91e0-495bb27f2e13          배터지는고기                5   \n798759  ffffe3de-7561-4c34-a382-7b8110cdf549            제일식당                0   \n\n        restaurant_category  restaurant_count_seats  restaurant_x  \\\n0                       NaN                      49    127.070477   \n1                       NaN                      28    127.149160   \n2                       NaN                      39    126.797864   \n3                       NaN                      20    126.664921   \n4                       NaN                      13    127.055136   \n...                     ...                     ...           ...   \n798755                  NaN                      36    128.558930   \n798756                  NaN                      29    127.722961   \n798757                  NaN                      88    127.441049   \n798758                  NaN                      70    128.317226   \n798759                  NaN                      30    128.745421   \n\n        restaurant_y                         restaurant_address  \\\n0          37.228156          경기도 화성시 삼성1로6길 19 (반월동, 360-20번지)   \n1          37.271302           경기도 용인시 기흥구 동백중앙로 199, 106호 (중동)   \n2          35.176804            광주광역시 광산구 용아로379번길 64, 1층 (하남동)   \n3          37.441782                   인천광역시 미추홀구 소성로 173 (학익동)   \n4          37.507409  서울특별시 강남구 테헤란로 지하 340, 선릉역 지하1층 맞이방 (삼성동)   \n...              ...                                        ...   \n798755     35.865237               대구광역시 서구 평리로 355, 지하1층 (평리동)   \n798756     35.516753                      경상남도 함양군 함양읍 함양로 1096   \n798757     37.280821               경기도 이천시 서희로60번길 15, 2층 (창전동)   \n798758     34.975775                       경상남도 고성군 고성읍 남포로 141   \n798759     35.249961                       경상남도 김해시 진례면 진례로 252   \n\n        restaurant_description  restaurant_contact restaurant_created_at  \\\n0                          NaN                 NaN   2022-12-03 10:35:35   \n1                          NaN                 NaN   2022-12-03 10:35:32   \n2                          NaN                 NaN   2022-12-03 10:34:05   \n3                          NaN                 NaN   2022-12-03 10:36:06   \n4                          NaN                 NaN   2022-12-03 10:35:49   \n...                        ...                 ...                   ...   \n798755                     NaN                 NaN   2022-12-03 10:35:45   \n798756                     NaN                 NaN   2022-12-03 10:35:53   \n798757                     NaN                 NaN   2022-12-03 10:35:19   \n798758                     NaN                 NaN   2022-12-03 10:33:44   \n798759                     NaN                 NaN   2022-12-03 10:35:10   \n\n       restaurant_updated_at  \\\n0        2022-12-03 10:35:35   \n1        2022-12-03 10:35:32   \n2        2022-12-06 23:33:51   \n3        2022-12-03 10:36:06   \n4        2022-12-03 10:35:49   \n...                      ...   \n798755   2022-12-03 10:35:45   \n798756   2022-12-03 10:35:53   \n798757   2022-12-03 10:35:19   \n798758   2022-12-03 10:33:44   \n798759   2022-12-03 10:35:10   \n\n                                         restaurant_image  \\\n0                                                     NaN   \n1                                                     NaN   \n2       {\"lastBuildDate\": \"Tue, 06 Dec 2022 23:33:53 +...   \n3                                                     NaN   \n4                                                     NaN   \n...                                                   ...   \n798755                                                NaN   \n798756                                                NaN   \n798757                                                NaN   \n798758                                                NaN   \n798759                                                NaN   \n\n                                          restaurant_menu  \\\n0                                                     NaN   \n1                                                     NaN   \n2       {\"lastBuildDate\": \"Tue, 06 Dec 2022 23:32:29 +...   \n3                                                     NaN   \n4                                                     NaN   \n...                                                   ...   \n798755                                                NaN   \n798756                                                NaN   \n798757                                                NaN   \n798758                                                NaN   \n798759                                                NaN   \n\n       restaurant_opening_time_days restaurant_opening_time  \\\n0                              None                    None   \n1                              None                    None   \n2                              None                    None   \n3                              None                    None   \n4                              None                    None   \n...                             ...                     ...   \n798755                         None                    None   \n798756                         None                    None   \n798757                         None                    None   \n798758                         None                    None   \n798759                         None                    None   \n\n       restaurant_break_time_days restaurant_break_time  \n0                            None                  None  \n1                            None                  None  \n2                            None                  None  \n3                            None                  None  \n4                            None                  None  \n...                           ...                   ...  \n798755                       None                  None  \n798756                       None                  None  \n798757                       None                  None  \n798758                       None                  None  \n798759                       None                  None  \n\n[798760 rows x 18 columns]",
      "text/html": "<div>\n<style scoped>\n    .dataframe tbody tr th:only-of-type {\n        vertical-align: middle;\n    }\n\n    .dataframe tbody tr th {\n        vertical-align: top;\n    }\n\n    .dataframe thead th {\n        text-align: right;\n    }\n</style>\n<table border=\"1\" class=\"dataframe\">\n  <thead>\n    <tr style=\"text-align: right;\">\n      <th></th>\n      <th>restaurant_id</th>\n      <th>restaurant_name</th>\n      <th>restaurant_rate</th>\n      <th>restaurant_category</th>\n      <th>restaurant_count_seats</th>\n      <th>restaurant_x</th>\n      <th>restaurant_y</th>\n      <th>restaurant_address</th>\n      <th>restaurant_description</th>\n      <th>restaurant_contact</th>\n      <th>restaurant_created_at</th>\n      <th>restaurant_updated_at</th>\n      <th>restaurant_image</th>\n      <th>restaurant_menu</th>\n      <th>restaurant_opening_time_days</th>\n      <th>restaurant_opening_time</th>\n      <th>restaurant_break_time_days</th>\n      <th>restaurant_break_time</th>\n    </tr>\n  </thead>\n  <tbody>\n    <tr>\n      <th>0</th>\n      <td>000015af-140a-4366-9619-d2a94e36d501</td>\n      <td>bhc치킨 반월삼성점</td>\n      <td>1</td>\n      <td>NaN</td>\n      <td>49</td>\n      <td>127.070477</td>\n      <td>37.228156</td>\n      <td>경기도 화성시 삼성1로6길 19 (반월동, 360-20번지)</td>\n      <td>NaN</td>\n      <td>NaN</td>\n      <td>2022-12-03 10:35:35</td>\n      <td>2022-12-03 10:35:35</td>\n      <td>NaN</td>\n      <td>NaN</td>\n      <td>None</td>\n      <td>None</td>\n      <td>None</td>\n      <td>None</td>\n    </tr>\n    <tr>\n      <th>1</th>\n      <td>00001ab4-e1b7-45a8-bfeb-694cf1f6893b</td>\n      <td>밀밭</td>\n      <td>1</td>\n      <td>NaN</td>\n      <td>28</td>\n      <td>127.149160</td>\n      <td>37.271302</td>\n      <td>경기도 용인시 기흥구 동백중앙로 199, 106호 (중동)</td>\n      <td>NaN</td>\n      <td>NaN</td>\n      <td>2022-12-03 10:35:32</td>\n      <td>2022-12-03 10:35:32</td>\n      <td>NaN</td>\n      <td>NaN</td>\n      <td>None</td>\n      <td>None</td>\n      <td>None</td>\n      <td>None</td>\n    </tr>\n    <tr>\n      <th>2</th>\n      <td>00002019-36fc-4b27-87be-00548ec6c264</td>\n      <td>홍춘이포차</td>\n      <td>4</td>\n      <td>NaN</td>\n      <td>39</td>\n      <td>126.797864</td>\n      <td>35.176804</td>\n      <td>광주광역시 광산구 용아로379번길 64, 1층 (하남동)</td>\n      <td>NaN</td>\n      <td>NaN</td>\n      <td>2022-12-03 10:34:05</td>\n      <td>2022-12-06 23:33:51</td>\n      <td>{\"lastBuildDate\": \"Tue, 06 Dec 2022 23:33:53 +...</td>\n      <td>{\"lastBuildDate\": \"Tue, 06 Dec 2022 23:32:29 +...</td>\n      <td>None</td>\n      <td>None</td>\n      <td>None</td>\n      <td>None</td>\n    </tr>\n    <tr>\n      <th>3</th>\n      <td>0000336e-b29c-4a17-a57a-fd3115be4d90</td>\n      <td>커피알베로</td>\n      <td>1</td>\n      <td>NaN</td>\n      <td>20</td>\n      <td>126.664921</td>\n      <td>37.441782</td>\n      <td>인천광역시 미추홀구 소성로 173 (학익동)</td>\n      <td>NaN</td>\n      <td>NaN</td>\n      <td>2022-12-03 10:36:06</td>\n      <td>2022-12-03 10:36:06</td>\n      <td>NaN</td>\n      <td>NaN</td>\n      <td>None</td>\n      <td>None</td>\n      <td>None</td>\n      <td>None</td>\n    </tr>\n    <tr>\n      <th>4</th>\n      <td>0000442c-1ecf-4f6f-8a8d-511f2f49cd34</td>\n      <td>후식 선릉역점</td>\n      <td>1</td>\n      <td>NaN</td>\n      <td>13</td>\n      <td>127.055136</td>\n      <td>37.507409</td>\n      <td>서울특별시 강남구 테헤란로 지하 340, 선릉역 지하1층 맞이방 (삼성동)</td>\n      <td>NaN</td>\n      <td>NaN</td>\n      <td>2022-12-03 10:35:49</td>\n      <td>2022-12-03 10:35:49</td>\n      <td>NaN</td>\n      <td>NaN</td>\n      <td>None</td>\n      <td>None</td>\n      <td>None</td>\n      <td>None</td>\n    </tr>\n    <tr>\n      <th>...</th>\n      <td>...</td>\n      <td>...</td>\n      <td>...</td>\n      <td>...</td>\n      <td>...</td>\n      <td>...</td>\n      <td>...</td>\n      <td>...</td>\n      <td>...</td>\n      <td>...</td>\n      <td>...</td>\n      <td>...</td>\n      <td>...</td>\n      <td>...</td>\n      <td>...</td>\n      <td>...</td>\n      <td>...</td>\n      <td>...</td>\n    </tr>\n    <tr>\n      <th>798755</th>\n      <td>ffffbab0-927f-47dc-b8f5-2669885bf138</td>\n      <td>황제다방</td>\n      <td>0</td>\n      <td>NaN</td>\n      <td>36</td>\n      <td>128.558930</td>\n      <td>35.865237</td>\n      <td>대구광역시 서구 평리로 355, 지하1층 (평리동)</td>\n      <td>NaN</td>\n      <td>NaN</td>\n      <td>2022-12-03 10:35:45</td>\n      <td>2022-12-03 10:35:45</td>\n      <td>NaN</td>\n      <td>NaN</td>\n      <td>None</td>\n      <td>None</td>\n      <td>None</td>\n      <td>None</td>\n    </tr>\n    <tr>\n      <th>798756</th>\n      <td>ffffd075-7392-4c4e-83a4-28e4622c6ed9</td>\n      <td>뮤즈</td>\n      <td>1</td>\n      <td>NaN</td>\n      <td>29</td>\n      <td>127.722961</td>\n      <td>35.516753</td>\n      <td>경상남도 함양군 함양읍 함양로 1096</td>\n      <td>NaN</td>\n      <td>NaN</td>\n      <td>2022-12-03 10:35:53</td>\n      <td>2022-12-03 10:35:53</td>\n      <td>NaN</td>\n      <td>NaN</td>\n      <td>None</td>\n      <td>None</td>\n      <td>None</td>\n      <td>None</td>\n    </tr>\n    <tr>\n      <th>798757</th>\n      <td>ffffd38e-c858-403e-8c6f-f9579e7b65e6</td>\n      <td>찜닭마을</td>\n      <td>5</td>\n      <td>NaN</td>\n      <td>88</td>\n      <td>127.441049</td>\n      <td>37.280821</td>\n      <td>경기도 이천시 서희로60번길 15, 2층 (창전동)</td>\n      <td>NaN</td>\n      <td>NaN</td>\n      <td>2022-12-03 10:35:19</td>\n      <td>2022-12-03 10:35:19</td>\n      <td>NaN</td>\n      <td>NaN</td>\n      <td>None</td>\n      <td>None</td>\n      <td>None</td>\n      <td>None</td>\n    </tr>\n    <tr>\n      <th>798758</th>\n      <td>ffffd732-6c4f-4d58-91e0-495bb27f2e13</td>\n      <td>배터지는고기</td>\n      <td>5</td>\n      <td>NaN</td>\n      <td>70</td>\n      <td>128.317226</td>\n      <td>34.975775</td>\n      <td>경상남도 고성군 고성읍 남포로 141</td>\n      <td>NaN</td>\n      <td>NaN</td>\n      <td>2022-12-03 10:33:44</td>\n      <td>2022-12-03 10:33:44</td>\n      <td>NaN</td>\n      <td>NaN</td>\n      <td>None</td>\n      <td>None</td>\n      <td>None</td>\n      <td>None</td>\n    </tr>\n    <tr>\n      <th>798759</th>\n      <td>ffffe3de-7561-4c34-a382-7b8110cdf549</td>\n      <td>제일식당</td>\n      <td>0</td>\n      <td>NaN</td>\n      <td>30</td>\n      <td>128.745421</td>\n      <td>35.249961</td>\n      <td>경상남도 김해시 진례면 진례로 252</td>\n      <td>NaN</td>\n      <td>NaN</td>\n      <td>2022-12-03 10:35:10</td>\n      <td>2022-12-03 10:35:10</td>\n      <td>NaN</td>\n      <td>NaN</td>\n      <td>None</td>\n      <td>None</td>\n      <td>None</td>\n      <td>None</td>\n    </tr>\n  </tbody>\n</table>\n<p>798760 rows × 18 columns</p>\n</div>"
     },
     "execution_count": 16,
     "metadata": {},
     "output_type": "execute_result"
    }
   ],
   "source": [
    "restaurant"
   ],
   "metadata": {
    "collapsed": false
   }
  },
  {
   "cell_type": "code",
   "execution_count": 19,
   "outputs": [],
   "source": [
    "restaurant.to_csv(\"data/new_restaurant.csv\", index=None)"
   ],
   "metadata": {
    "collapsed": false
   }
  },
  {
   "cell_type": "code",
   "execution_count": null,
   "outputs": [],
   "source": [],
   "metadata": {
    "collapsed": false
   }
  }
 ],
 "metadata": {
  "kernelspec": {
   "display_name": "Python 3",
   "language": "python",
   "name": "python3"
  },
  "language_info": {
   "codemirror_mode": {
    "name": "ipython",
    "version": 2
   },
   "file_extension": ".py",
   "mimetype": "text/x-python",
   "name": "python",
   "nbconvert_exporter": "python",
   "pygments_lexer": "ipython2",
   "version": "2.7.6"
  }
 },
 "nbformat": 4,
 "nbformat_minor": 0
}
